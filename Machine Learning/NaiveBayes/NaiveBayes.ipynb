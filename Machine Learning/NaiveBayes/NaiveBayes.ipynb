{
 "cells": [
  {
   "cell_type": "code",
   "execution_count": 4,
   "metadata": {
    "collapsed": true
   },
   "outputs": [],
   "source": [
    "import numpy as np"
   ]
  },
  {
   "cell_type": "code",
   "execution_count": 149,
   "metadata": {},
   "outputs": [],
   "source": [
    "# Author: Zhengkai Zhang\n",
    "# Bernoulli Naive Bayes Algorithm \n",
    "def loadDataSet():\n",
    "    postingList=[['my', 'dog', 'has', 'stop'],\n",
    "                 ['maybe', 'not', 'take', 'him'],\n",
    "                 ['my', 'dalmation', 'is', 'so'],\n",
    "                 ['stop', 'dog', 'stupid', 'him']]\n",
    "    classVec = [0,1,0,1]\n",
    "    return postingList,classVec\n",
    "\n",
    "def creatVocabDict(wordList):\n",
    "    result = {}\n",
    "    pos = 0\n",
    "    for words in wordList:\n",
    "        for word in words:\n",
    "            if (word not in result.keys()):\n",
    "                result[word] = pos\n",
    "                pos += 1\n",
    "            else:\n",
    "                continue\n",
    "    return result\n",
    "\n",
    "def Word2Vec(wordList, vocabDict):\n",
    "    results = []\n",
    "    result = np.zeros(len(vocabDict))\n",
    "    for words in wordList:\n",
    "        result = np.zeros(len(vocabDict))\n",
    "        results.append(result)\n",
    "        for word in words:\n",
    "            if (word in vocabDict.keys()):\n",
    "                result[vocabDict[word]] = 1\n",
    "            else:\n",
    "                print(\"Word {} is not in the Vocab Dict\".format(word))\n",
    "    return np.array(results)\n",
    "\n",
    "def trainNB(wordList, labels):\n",
    "    numOfList = len(wordList[0])\n",
    "    p0 = np.zeros(numOfList) + 1\n",
    "    p1 = np.zeros(numOfList) + 1\n",
    "    prior = np.sum(labels) / len(labels)\n",
    "    p1Denorm = 0.0\n",
    "    p0Denorm = 0.0\n",
    "    for i in range(len(labels)):\n",
    "        if (labels[i] == 1):\n",
    "            p1 += wordList[i]\n",
    "            p1Denorm += 1\n",
    "        else:\n",
    "            p0 += wordList[i]\n",
    "            p0Denorm += 1\n",
    "    print(p1Denorm)\n",
    "    print(p0Denorm)\n",
    "    p1 = p1 / p1Denorm\n",
    "    p0 = p0 / p0Denorm\n",
    "\n",
    "    return p1, p0, prior\n",
    "\n",
    "def predict(x, p1, p0, prior):\n",
    "    pro1 = np.log(np.sum(p1 * x) + np.log(np.sum((1 - p1) * (1 - x)))) + np.log(prior)\n",
    "    pro0 = np.log(np.sum(p0 * x) + np.log(np.sum((1 - p0) * (1 - x)))) + np.log(1 - prior)\n",
    "    \n",
    "    if (pro1 > pro0):\n",
    "        return 1\n",
    "    else:\n",
    "        return 0"
   ]
  },
  {
   "cell_type": "code",
   "execution_count": 151,
   "metadata": {},
   "outputs": [
    {
     "name": "stdout",
     "output_type": "stream",
     "text": [
      "2.0\n",
      "2.0\n"
     ]
    },
    {
     "data": {
      "text/plain": [
       "0"
      ]
     },
     "execution_count": 151,
     "metadata": {},
     "output_type": "execute_result"
    }
   ],
   "source": [
    "wordList, labels = loadDataSet()\n",
    "vocabDict = creatVocabDict(wordList)\n",
    "wordList = Word2Vec(wordList,vocabDict)\n",
    "p1, p0, prior = trainNB(wordList, labels)\n",
    "predict(np.array([0] * 12), p1, p0, prior)"
   ]
  },
  {
   "cell_type": "code",
   "execution_count": null,
   "metadata": {
    "collapsed": true
   },
   "outputs": [],
   "source": []
  }
 ],
 "metadata": {
  "kernelspec": {
   "display_name": "Python 3",
   "language": "python",
   "name": "python3"
  },
  "language_info": {
   "codemirror_mode": {
    "name": "ipython",
    "version": 3
   },
   "file_extension": ".py",
   "mimetype": "text/x-python",
   "name": "python",
   "nbconvert_exporter": "python",
   "pygments_lexer": "ipython3",
   "version": "3.5.4"
  }
 },
 "nbformat": 4,
 "nbformat_minor": 2
}
